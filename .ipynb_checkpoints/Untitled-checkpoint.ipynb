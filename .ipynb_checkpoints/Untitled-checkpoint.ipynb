{
 "cells": [
  {
   "cell_type": "code",
   "execution_count": null,
   "id": "1f5f7896",
   "metadata": {},
   "outputs": [],
   "source": [
    "postgresql = {'pguser' : 'ericj',\n",
    "             'pgpassword' : 'EhrEhrdl123)',\n",
    "             'pghost' : 'localhost',\n",
    "             'pgport' : 5432,\n",
    "             'pgdb' : 'soccer_db'}"
   ]
  }
 ],
 "metadata": {
  "kernelspec": {
   "display_name": "Python 3 (ipykernel)",
   "language": "python",
   "name": "python3"
  },
  "language_info": {
   "codemirror_mode": {
    "name": "ipython",
    "version": 3
   },
   "file_extension": ".py",
   "mimetype": "text/x-python",
   "name": "python",
   "nbconvert_exporter": "python",
   "pygments_lexer": "ipython3",
   "version": "3.9.12"
  }
 },
 "nbformat": 4,
 "nbformat_minor": 5
}
